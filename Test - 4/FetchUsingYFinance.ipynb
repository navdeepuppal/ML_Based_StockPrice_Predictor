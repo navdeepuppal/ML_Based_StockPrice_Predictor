{
 "cells": [
  {
   "cell_type": "code",
   "execution_count": 1,
   "metadata": {},
   "outputs": [],
   "source": [
    "import yfinance as yf\n",
    "import os\n",
    "import plotly as plt"
   ]
  },
  {
   "cell_type": "code",
   "execution_count": 2,
   "metadata": {},
   "outputs": [
    {
     "name": "stdout",
     "output_type": "stream",
     "text": [
      "yfinance.Ticker object <^NSEI>\n"
     ]
    }
   ],
   "source": [
    "tickname = '^NSEI'\n",
    "tick = yf.Ticker(tickname)\n",
    "print(tick)"
   ]
  },
  {
   "cell_type": "code",
   "execution_count": 8,
   "metadata": {},
   "outputs": [],
   "source": [
    "def save_data(tickname):\n",
    "    try:\n",
    "        os.mkdir(tickname)\n",
    "    except:\n",
    "        pass\n",
    "    #1m\n",
    "    i = '1m'\n",
    "    a = yf.download(tickers=tickname, period='7d', interval=i, rounding = True)\n",
    "    a.to_csv(tickname+r'/'+i+' till 2022-02-18.csv')\n",
    "    #2m\n",
    "    i = '2m'\n",
    "    a = yf.download(tickers=tickname, period='60d', interval=i, rounding = True)\n",
    "    a.to_csv(tickname+r'/'+i+' till 2022-02-18.csv')\n",
    "    #1h\n",
    "    i = '1h'\n",
    "    a = yf.download(tickers=tickname, period='2y', interval=i, rounding = True)\n",
    "    a.to_csv(tickname+r'/'+i+' till 2022-02-18.csv')\n",
    "    #1d\n",
    "    i = '1d'\n",
    "    a = yf.download(tickers=tickname, period='max', interval=i, rounding = True)\n",
    "    a.to_csv(tickname+r'/'+i+' till 2022-02-18.csv')"
   ]
  },
  {
   "cell_type": "code",
   "execution_count": 9,
   "metadata": {},
   "outputs": [
    {
     "name": "stdout",
     "output_type": "stream",
     "text": [
      "[*********************100%***********************]  1 of 1 completed\n",
      "[*********************100%***********************]  1 of 1 completed\n",
      "[*********************100%***********************]  1 of 1 completed\n",
      "[*********************100%***********************]  1 of 1 completed\n"
     ]
    }
   ],
   "source": [
    "save_data(tickname)"
   ]
  }
 ],
 "metadata": {
  "interpreter": {
   "hash": "928aa7868b69010a68c8c5b7100ff50e2a209a5170144a8178c47f034182c006"
  },
  "kernelspec": {
   "display_name": "Python 3.8.10 64-bit (windows store)",
   "language": "python",
   "name": "python3"
  },
  "language_info": {
   "codemirror_mode": {
    "name": "ipython",
    "version": 3
   },
   "file_extension": ".py",
   "mimetype": "text/x-python",
   "name": "python",
   "nbconvert_exporter": "python",
   "pygments_lexer": "ipython3",
   "version": "3.8.10"
  },
  "orig_nbformat": 4
 },
 "nbformat": 4,
 "nbformat_minor": 2
}
