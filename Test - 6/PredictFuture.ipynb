{
 "cells": [
  {
   "cell_type": "code",
   "execution_count": 42,
   "metadata": {},
   "outputs": [],
   "source": [
    "import matplotlib.pyplot as plt\n",
    "import numpy as np\n",
    "import pandas as pd"
   ]
  },
  {
   "cell_type": "code",
   "execution_count": 43,
   "metadata": {},
   "outputs": [
    {
     "data": {
      "text/html": [
       "<div>\n",
       "<style scoped>\n",
       "    .dataframe tbody tr th:only-of-type {\n",
       "        vertical-align: middle;\n",
       "    }\n",
       "\n",
       "    .dataframe tbody tr th {\n",
       "        vertical-align: top;\n",
       "    }\n",
       "\n",
       "    .dataframe thead th {\n",
       "        text-align: right;\n",
       "    }\n",
       "</style>\n",
       "<table border=\"1\" class=\"dataframe\">\n",
       "  <thead>\n",
       "    <tr style=\"text-align: right;\">\n",
       "      <th></th>\n",
       "      <th>Datetime</th>\n",
       "      <th>Open</th>\n",
       "      <th>High</th>\n",
       "      <th>Low</th>\n",
       "      <th>Close</th>\n",
       "      <th>Adj Close</th>\n",
       "      <th>Volume</th>\n",
       "    </tr>\n",
       "  </thead>\n",
       "  <tbody>\n",
       "    <tr>\n",
       "      <th>0</th>\n",
       "      <td>2022-02-10 09:15:00+05:30</td>\n",
       "      <td>17554.10</td>\n",
       "      <td>17554.10</td>\n",
       "      <td>17512.15</td>\n",
       "      <td>17518.80</td>\n",
       "      <td>17518.80</td>\n",
       "      <td>0</td>\n",
       "    </tr>\n",
       "    <tr>\n",
       "      <th>1</th>\n",
       "      <td>2022-02-10 09:16:00+05:30</td>\n",
       "      <td>17517.15</td>\n",
       "      <td>17536.05</td>\n",
       "      <td>17516.50</td>\n",
       "      <td>17534.60</td>\n",
       "      <td>17534.60</td>\n",
       "      <td>0</td>\n",
       "    </tr>\n",
       "    <tr>\n",
       "      <th>2</th>\n",
       "      <td>2022-02-10 09:17:00+05:30</td>\n",
       "      <td>17534.65</td>\n",
       "      <td>17534.65</td>\n",
       "      <td>17522.55</td>\n",
       "      <td>17522.60</td>\n",
       "      <td>17522.60</td>\n",
       "      <td>0</td>\n",
       "    </tr>\n",
       "    <tr>\n",
       "      <th>3</th>\n",
       "      <td>2022-02-10 09:18:00+05:30</td>\n",
       "      <td>17523.40</td>\n",
       "      <td>17523.40</td>\n",
       "      <td>17508.05</td>\n",
       "      <td>17515.10</td>\n",
       "      <td>17515.10</td>\n",
       "      <td>0</td>\n",
       "    </tr>\n",
       "    <tr>\n",
       "      <th>4</th>\n",
       "      <td>2022-02-10 09:19:00+05:30</td>\n",
       "      <td>17514.25</td>\n",
       "      <td>17516.20</td>\n",
       "      <td>17500.75</td>\n",
       "      <td>17500.75</td>\n",
       "      <td>17500.75</td>\n",
       "      <td>0</td>\n",
       "    </tr>\n",
       "    <tr>\n",
       "      <th>...</th>\n",
       "      <td>...</td>\n",
       "      <td>...</td>\n",
       "      <td>...</td>\n",
       "      <td>...</td>\n",
       "      <td>...</td>\n",
       "      <td>...</td>\n",
       "      <td>...</td>\n",
       "    </tr>\n",
       "    <tr>\n",
       "      <th>2620</th>\n",
       "      <td>2022-02-18 15:26:00+05:30</td>\n",
       "      <td>17276.85</td>\n",
       "      <td>17277.25</td>\n",
       "      <td>17273.40</td>\n",
       "      <td>17274.70</td>\n",
       "      <td>17274.70</td>\n",
       "      <td>0</td>\n",
       "    </tr>\n",
       "    <tr>\n",
       "      <th>2621</th>\n",
       "      <td>2022-02-18 15:27:00+05:30</td>\n",
       "      <td>17273.85</td>\n",
       "      <td>17276.25</td>\n",
       "      <td>17272.10</td>\n",
       "      <td>17274.45</td>\n",
       "      <td>17274.45</td>\n",
       "      <td>0</td>\n",
       "    </tr>\n",
       "    <tr>\n",
       "      <th>2622</th>\n",
       "      <td>2022-02-18 15:28:00+05:30</td>\n",
       "      <td>17274.60</td>\n",
       "      <td>17274.65</td>\n",
       "      <td>17263.10</td>\n",
       "      <td>17266.00</td>\n",
       "      <td>17266.00</td>\n",
       "      <td>0</td>\n",
       "    </tr>\n",
       "    <tr>\n",
       "      <th>2623</th>\n",
       "      <td>2022-02-18 15:29:00+05:30</td>\n",
       "      <td>17265.95</td>\n",
       "      <td>17271.30</td>\n",
       "      <td>17263.65</td>\n",
       "      <td>17268.75</td>\n",
       "      <td>17268.75</td>\n",
       "      <td>0</td>\n",
       "    </tr>\n",
       "    <tr>\n",
       "      <th>2624</th>\n",
       "      <td>2022-02-18 15:30:00+05:30</td>\n",
       "      <td>17276.30</td>\n",
       "      <td>17276.30</td>\n",
       "      <td>17276.30</td>\n",
       "      <td>17276.30</td>\n",
       "      <td>17276.30</td>\n",
       "      <td>0</td>\n",
       "    </tr>\n",
       "  </tbody>\n",
       "</table>\n",
       "<p>2625 rows × 7 columns</p>\n",
       "</div>"
      ],
      "text/plain": [
       "                       Datetime      Open      High       Low     Close  \\\n",
       "0     2022-02-10 09:15:00+05:30  17554.10  17554.10  17512.15  17518.80   \n",
       "1     2022-02-10 09:16:00+05:30  17517.15  17536.05  17516.50  17534.60   \n",
       "2     2022-02-10 09:17:00+05:30  17534.65  17534.65  17522.55  17522.60   \n",
       "3     2022-02-10 09:18:00+05:30  17523.40  17523.40  17508.05  17515.10   \n",
       "4     2022-02-10 09:19:00+05:30  17514.25  17516.20  17500.75  17500.75   \n",
       "...                         ...       ...       ...       ...       ...   \n",
       "2620  2022-02-18 15:26:00+05:30  17276.85  17277.25  17273.40  17274.70   \n",
       "2621  2022-02-18 15:27:00+05:30  17273.85  17276.25  17272.10  17274.45   \n",
       "2622  2022-02-18 15:28:00+05:30  17274.60  17274.65  17263.10  17266.00   \n",
       "2623  2022-02-18 15:29:00+05:30  17265.95  17271.30  17263.65  17268.75   \n",
       "2624  2022-02-18 15:30:00+05:30  17276.30  17276.30  17276.30  17276.30   \n",
       "\n",
       "      Adj Close  Volume  \n",
       "0      17518.80       0  \n",
       "1      17534.60       0  \n",
       "2      17522.60       0  \n",
       "3      17515.10       0  \n",
       "4      17500.75       0  \n",
       "...         ...     ...  \n",
       "2620   17274.70       0  \n",
       "2621   17274.45       0  \n",
       "2622   17266.00       0  \n",
       "2623   17268.75       0  \n",
       "2624   17276.30       0  \n",
       "\n",
       "[2625 rows x 7 columns]"
      ]
     },
     "execution_count": 43,
     "metadata": {},
     "output_type": "execute_result"
    }
   ],
   "source": [
    "# Importing the dataset\n",
    "dataset = pd.read_csv(r'^NSEI\\1m till 2022-02-18.csv')\n",
    "dataset"
   ]
  },
  {
   "cell_type": "code",
   "execution_count": 44,
   "metadata": {},
   "outputs": [
    {
     "data": {
      "text/html": [
       "<div>\n",
       "<style scoped>\n",
       "    .dataframe tbody tr th:only-of-type {\n",
       "        vertical-align: middle;\n",
       "    }\n",
       "\n",
       "    .dataframe tbody tr th {\n",
       "        vertical-align: top;\n",
       "    }\n",
       "\n",
       "    .dataframe thead th {\n",
       "        text-align: right;\n",
       "    }\n",
       "</style>\n",
       "<table border=\"1\" class=\"dataframe\">\n",
       "  <thead>\n",
       "    <tr style=\"text-align: right;\">\n",
       "      <th></th>\n",
       "      <th>Open</th>\n",
       "      <th>High</th>\n",
       "      <th>Low</th>\n",
       "      <th>Close</th>\n",
       "    </tr>\n",
       "  </thead>\n",
       "  <tbody>\n",
       "    <tr>\n",
       "      <th>0</th>\n",
       "      <td>17554.10</td>\n",
       "      <td>17554.10</td>\n",
       "      <td>17512.15</td>\n",
       "      <td>17518.80</td>\n",
       "    </tr>\n",
       "    <tr>\n",
       "      <th>1</th>\n",
       "      <td>17517.15</td>\n",
       "      <td>17536.05</td>\n",
       "      <td>17516.50</td>\n",
       "      <td>17534.60</td>\n",
       "    </tr>\n",
       "    <tr>\n",
       "      <th>2</th>\n",
       "      <td>17534.65</td>\n",
       "      <td>17534.65</td>\n",
       "      <td>17522.55</td>\n",
       "      <td>17522.60</td>\n",
       "    </tr>\n",
       "    <tr>\n",
       "      <th>3</th>\n",
       "      <td>17523.40</td>\n",
       "      <td>17523.40</td>\n",
       "      <td>17508.05</td>\n",
       "      <td>17515.10</td>\n",
       "    </tr>\n",
       "    <tr>\n",
       "      <th>4</th>\n",
       "      <td>17514.25</td>\n",
       "      <td>17516.20</td>\n",
       "      <td>17500.75</td>\n",
       "      <td>17500.75</td>\n",
       "    </tr>\n",
       "    <tr>\n",
       "      <th>...</th>\n",
       "      <td>...</td>\n",
       "      <td>...</td>\n",
       "      <td>...</td>\n",
       "      <td>...</td>\n",
       "    </tr>\n",
       "    <tr>\n",
       "      <th>2620</th>\n",
       "      <td>17276.85</td>\n",
       "      <td>17277.25</td>\n",
       "      <td>17273.40</td>\n",
       "      <td>17274.70</td>\n",
       "    </tr>\n",
       "    <tr>\n",
       "      <th>2621</th>\n",
       "      <td>17273.85</td>\n",
       "      <td>17276.25</td>\n",
       "      <td>17272.10</td>\n",
       "      <td>17274.45</td>\n",
       "    </tr>\n",
       "    <tr>\n",
       "      <th>2622</th>\n",
       "      <td>17274.60</td>\n",
       "      <td>17274.65</td>\n",
       "      <td>17263.10</td>\n",
       "      <td>17266.00</td>\n",
       "    </tr>\n",
       "    <tr>\n",
       "      <th>2623</th>\n",
       "      <td>17265.95</td>\n",
       "      <td>17271.30</td>\n",
       "      <td>17263.65</td>\n",
       "      <td>17268.75</td>\n",
       "    </tr>\n",
       "    <tr>\n",
       "      <th>2624</th>\n",
       "      <td>17276.30</td>\n",
       "      <td>17276.30</td>\n",
       "      <td>17276.30</td>\n",
       "      <td>17276.30</td>\n",
       "    </tr>\n",
       "  </tbody>\n",
       "</table>\n",
       "<p>2625 rows × 4 columns</p>\n",
       "</div>"
      ],
      "text/plain": [
       "          Open      High       Low     Close\n",
       "0     17554.10  17554.10  17512.15  17518.80\n",
       "1     17517.15  17536.05  17516.50  17534.60\n",
       "2     17534.65  17534.65  17522.55  17522.60\n",
       "3     17523.40  17523.40  17508.05  17515.10\n",
       "4     17514.25  17516.20  17500.75  17500.75\n",
       "...        ...       ...       ...       ...\n",
       "2620  17276.85  17277.25  17273.40  17274.70\n",
       "2621  17273.85  17276.25  17272.10  17274.45\n",
       "2622  17274.60  17274.65  17263.10  17266.00\n",
       "2623  17265.95  17271.30  17263.65  17268.75\n",
       "2624  17276.30  17276.30  17276.30  17276.30\n",
       "\n",
       "[2625 rows x 4 columns]"
      ]
     },
     "execution_count": 44,
     "metadata": {},
     "output_type": "execute_result"
    }
   ],
   "source": [
    "dataset.drop(['Datetime', 'Adj Close', 'Volume'], axis=1, inplace=True)\n",
    "dataset"
   ]
  },
  {
   "cell_type": "code",
   "execution_count": 45,
   "metadata": {},
   "outputs": [
    {
     "data": {
      "text/plain": [
       "array([[0.89779608, 0.89690659, 0.85155539, 0.8549743 ],\n",
       "       [0.85305159, 0.87505297, 0.856831  , 0.87408527],\n",
       "       [0.87424316, 0.87335795, 0.86416833, 0.85957061],\n",
       "       ...,\n",
       "       [0.5593364 , 0.55856892, 0.54951185, 0.54919867],\n",
       "       [0.54886171, 0.55451299, 0.55017889, 0.55252495],\n",
       "       [0.56139501, 0.56056662, 0.56552059, 0.56165709]])"
      ]
     },
     "execution_count": 45,
     "metadata": {},
     "output_type": "execute_result"
    }
   ],
   "source": [
    "from sklearn.preprocessing import MinMaxScaler\n",
    "sc = MinMaxScaler(feature_range = (0, 1))\n",
    "dataset_scaled = sc.fit_transform(dataset)\n",
    "dataset_scaled"
   ]
  },
  {
   "cell_type": "code",
   "execution_count": 46,
   "metadata": {},
   "outputs": [
    {
     "data": {
      "text/plain": [
       "((2040, 60, 4), (2040,))"
      ]
     },
     "execution_count": 46,
     "metadata": {},
     "output_type": "execute_result"
    }
   ],
   "source": [
    "# Creating a data structure with 60 timesteps and 1 output\n",
    "x_train = []\n",
    "y_train = []\n",
    "for i in range(60, int(len(dataset_scaled)*0.8)):\n",
    "    x_train.append(dataset_scaled[i-60:i])\n",
    "    y_train.append(dataset_scaled[i, 3])\n",
    "x_train, y_train = np.array(x_train), np.array(y_train)\n",
    "x_train.shape, y_train.shape"
   ]
  },
  {
   "cell_type": "code",
   "execution_count": 47,
   "metadata": {},
   "outputs": [
    {
     "data": {
      "text/plain": [
       "((525, 60, 4), (525,))"
      ]
     },
     "execution_count": 47,
     "metadata": {},
     "output_type": "execute_result"
    }
   ],
   "source": [
    "# Creating a data structure with 60 timesteps and 1 output\n",
    "x_test = []\n",
    "y_test = []\n",
    "for i in range(int(len(dataset_scaled)*0.8), len(dataset_scaled)):\n",
    "    x_test.append(dataset_scaled[i-60:i])\n",
    "    y_test.append(dataset_scaled[i, 3])\n",
    "x_test, y_test = np.array(x_test), np.array(y_test)\n",
    "x_test.shape, y_test.shape"
   ]
  },
  {
   "cell_type": "code",
   "execution_count": 48,
   "metadata": {},
   "outputs": [
    {
     "name": "stdout",
     "output_type": "stream",
     "text": [
      "Model: \"mnist_model\"\n",
      "_________________________________________________________________\n",
      " Layer (type)                Output Shape              Param #   \n",
      "=================================================================\n",
      " input_3 (InputLayer)        [(None, 2040)]            0         \n",
      "                                                                 \n",
      " dense_4 (Dense)             (None, 60)                122460    \n",
      "                                                                 \n",
      " dense_5 (Dense)             (None, 4)                 244       \n",
      "                                                                 \n",
      "=================================================================\n",
      "Total params: 122,704\n",
      "Trainable params: 122,704\n",
      "Non-trainable params: 0\n",
      "_________________________________________________________________\n"
     ]
    }
   ],
   "source": [
    "import tensorflow as tf\n",
    "from tensorflow import keras\n",
    "from tensorflow.keras import layers\n",
    "inputs = keras.Input(shape=(x_train.shape[0],))\n",
    "x = layers.Dense(x_train.shape[1], activation=\"relu\")(inputs)\n",
    "x = layers.Dense(x_train.shape[2], activation=\"relu\")(x)\n",
    "model = keras.Model(inputs=inputs, outputs=x, name=\"mnist_model\")\n",
    "model.summary()\n",
    "model.compile(\n",
    "    loss=keras.losses.SparseCategoricalCrossentropy(from_logits=True),\n",
    "    optimizer=keras.optimizers.RMSprop(),\n",
    "    metrics=[\"accuracy\"],\n",
    ")"
   ]
  },
  {
   "cell_type": "code",
   "execution_count": 49,
   "metadata": {},
   "outputs": [
    {
     "name": "stdout",
     "output_type": "stream",
     "text": [
      "INFO:tensorflow:Assets written to: ram://5cb43ad4-4a3f-4964-a931-39e103aa865a/assets\n"
     ]
    }
   ],
   "source": [
    "#Saving the model\n",
    "import pickle\n",
    "classifier = open('classifier.model', 'wb')\n",
    "pickle.dump(model, classifier)\n",
    "classifier.close()"
   ]
  },
  {
   "cell_type": "code",
   "execution_count": 50,
   "metadata": {},
   "outputs": [
    {
     "ename": "FileNotFoundError",
     "evalue": "Unsuccessful TensorSliceReader constructor: Failed to find any matching files for ram://43abf4de-4c89-473d-8ad4-cc55c6357bf4/variables/variables\n You may be trying to load on a different device from the computational device. Consider setting the `experimental_io_device` option in `tf.saved_model.LoadOptions` to the io_device such as '/job:localhost'.",
     "output_type": "error",
     "traceback": [
      "\u001b[1;31m---------------------------------------------------------------------------\u001b[0m",
      "\u001b[1;31mFileNotFoundError\u001b[0m                         Traceback (most recent call last)",
      "\u001b[1;32md:\\ML_Based_Predictor\\Test - 6\\PredictFuture.ipynb Cell 9'\u001b[0m in \u001b[0;36m<cell line: 3>\u001b[1;34m()\u001b[0m\n\u001b[0;32m      <a href='vscode-notebook-cell:/d%3A/ML_Based_Predictor/Test%20-%206/PredictFuture.ipynb#ch0000008?line=0'>1</a>\u001b[0m \u001b[39m#Loading saved model\u001b[39;00m\n\u001b[0;32m      <a href='vscode-notebook-cell:/d%3A/ML_Based_Predictor/Test%20-%206/PredictFuture.ipynb#ch0000008?line=1'>2</a>\u001b[0m classifier \u001b[39m=\u001b[39m \u001b[39mopen\u001b[39m(\u001b[39m'\u001b[39m\u001b[39mclassifier.model\u001b[39m\u001b[39m'\u001b[39m, \u001b[39m'\u001b[39m\u001b[39mrb\u001b[39m\u001b[39m'\u001b[39m)\n\u001b[1;32m----> <a href='vscode-notebook-cell:/d%3A/ML_Based_Predictor/Test%20-%206/PredictFuture.ipynb#ch0000008?line=2'>3</a>\u001b[0m model2 \u001b[39m=\u001b[39m pickle\u001b[39m.\u001b[39;49mload(classifier)\n\u001b[0;32m      <a href='vscode-notebook-cell:/d%3A/ML_Based_Predictor/Test%20-%206/PredictFuture.ipynb#ch0000008?line=3'>4</a>\u001b[0m classifier\u001b[39m.\u001b[39mclose()\n",
      "File \u001b[1;32mc:\\Users\\Genus\\AppData\\Local\\Programs\\Python\\Python38\\lib\\site-packages\\keras\\saving\\pickle_utils.py:48\u001b[0m, in \u001b[0;36mdeserialize_model_from_bytecode\u001b[1;34m(serialized_model)\u001b[0m\n\u001b[0;32m     46\u001b[0m       \u001b[39mwith\u001b[39;00m tf\u001b[39m.\u001b[39mio\u001b[39m.\u001b[39mgfile\u001b[39m.\u001b[39mGFile(dest_path, \u001b[39m\"\u001b[39m\u001b[39mwb\u001b[39m\u001b[39m\"\u001b[39m) \u001b[39mas\u001b[39;00m f:\n\u001b[0;32m     47\u001b[0m         f\u001b[39m.\u001b[39mwrite(archive\u001b[39m.\u001b[39mextractfile(name)\u001b[39m.\u001b[39mread())\n\u001b[1;32m---> 48\u001b[0m model \u001b[39m=\u001b[39m save_module\u001b[39m.\u001b[39;49mload_model(temp_dir)\n\u001b[0;32m     49\u001b[0m tf\u001b[39m.\u001b[39mio\u001b[39m.\u001b[39mgfile\u001b[39m.\u001b[39mrmtree(temp_dir)\n\u001b[0;32m     50\u001b[0m \u001b[39mreturn\u001b[39;00m model\n",
      "File \u001b[1;32mc:\\Users\\Genus\\AppData\\Local\\Programs\\Python\\Python38\\lib\\site-packages\\keras\\utils\\traceback_utils.py:67\u001b[0m, in \u001b[0;36mfilter_traceback.<locals>.error_handler\u001b[1;34m(*args, **kwargs)\u001b[0m\n\u001b[0;32m     65\u001b[0m \u001b[39mexcept\u001b[39;00m \u001b[39mException\u001b[39;00m \u001b[39mas\u001b[39;00m e:  \u001b[39m# pylint: disable=broad-except\u001b[39;00m\n\u001b[0;32m     66\u001b[0m   filtered_tb \u001b[39m=\u001b[39m _process_traceback_frames(e\u001b[39m.\u001b[39m__traceback__)\n\u001b[1;32m---> 67\u001b[0m   \u001b[39mraise\u001b[39;00m e\u001b[39m.\u001b[39mwith_traceback(filtered_tb) \u001b[39mfrom\u001b[39;00m \u001b[39mNone\u001b[39m\n\u001b[0;32m     68\u001b[0m \u001b[39mfinally\u001b[39;00m:\n\u001b[0;32m     69\u001b[0m   \u001b[39mdel\u001b[39;00m filtered_tb\n",
      "File \u001b[1;32mc:\\Users\\Genus\\AppData\\Local\\Programs\\Python\\Python38\\lib\\site-packages\\tensorflow\\python\\saved_model\\load.py:915\u001b[0m, in \u001b[0;36mload_partial\u001b[1;34m(export_dir, filters, tags, options)\u001b[0m\n\u001b[0;32m    912\u001b[0m   loader \u001b[39m=\u001b[39m Loader(object_graph_proto, saved_model_proto, export_dir,\n\u001b[0;32m    913\u001b[0m                   ckpt_options, options, filters)\n\u001b[0;32m    914\u001b[0m \u001b[39mexcept\u001b[39;00m errors\u001b[39m.\u001b[39mNotFoundError \u001b[39mas\u001b[39;00m err:\n\u001b[1;32m--> 915\u001b[0m   \u001b[39mraise\u001b[39;00m \u001b[39mFileNotFoundError\u001b[39;00m(\n\u001b[0;32m    916\u001b[0m       \u001b[39mstr\u001b[39m(err) \u001b[39m+\u001b[39m \u001b[39m\"\u001b[39m\u001b[39m\\n\u001b[39;00m\u001b[39m You may be trying to load on a different device \u001b[39m\u001b[39m\"\u001b[39m\n\u001b[0;32m    917\u001b[0m       \u001b[39m\"\u001b[39m\u001b[39mfrom the computational device. Consider setting the \u001b[39m\u001b[39m\"\u001b[39m\n\u001b[0;32m    918\u001b[0m       \u001b[39m\"\u001b[39m\u001b[39m`experimental_io_device` option in `tf.saved_model.LoadOptions` \u001b[39m\u001b[39m\"\u001b[39m\n\u001b[0;32m    919\u001b[0m       \u001b[39m\"\u001b[39m\u001b[39mto the io_device such as \u001b[39m\u001b[39m'\u001b[39m\u001b[39m/job:localhost\u001b[39m\u001b[39m'\u001b[39m\u001b[39m.\u001b[39m\u001b[39m\"\u001b[39m)\n\u001b[0;32m    920\u001b[0m root \u001b[39m=\u001b[39m loader\u001b[39m.\u001b[39mget(\u001b[39m0\u001b[39m)\n\u001b[0;32m    921\u001b[0m root\u001b[39m.\u001b[39mgraph_debug_info \u001b[39m=\u001b[39m loader\u001b[39m.\u001b[39madjust_debug_info_func_names(debug_info)\n",
      "\u001b[1;31mFileNotFoundError\u001b[0m: Unsuccessful TensorSliceReader constructor: Failed to find any matching files for ram://43abf4de-4c89-473d-8ad4-cc55c6357bf4/variables/variables\n You may be trying to load on a different device from the computational device. Consider setting the `experimental_io_device` option in `tf.saved_model.LoadOptions` to the io_device such as '/job:localhost'."
     ]
    }
   ],
   "source": [
    "#Loading saved model\n",
    "classifier = open('classifier.model', 'rb')\n",
    "model2 = pickle.load(classifier)\n",
    "classifier.close()"
   ]
  },
  {
   "cell_type": "code",
   "execution_count": null,
   "metadata": {},
   "outputs": [
    {
     "ename": "ValueError",
     "evalue": "in user code:\n\n    File \"c:\\Users\\Genus\\AppData\\Local\\Programs\\Python\\Python38\\lib\\site-packages\\keras\\engine\\training.py\", line 1557, in test_function  *\n        return step_function(self, iterator)\n    File \"c:\\Users\\Genus\\AppData\\Local\\Programs\\Python\\Python38\\lib\\site-packages\\keras\\engine\\training.py\", line 1546, in step_function  **\n        outputs = model.distribute_strategy.run(run_step, args=(data,))\n    File \"c:\\Users\\Genus\\AppData\\Local\\Programs\\Python\\Python38\\lib\\site-packages\\keras\\engine\\training.py\", line 1535, in run_step  **\n        outputs = model.test_step(data)\n    File \"c:\\Users\\Genus\\AppData\\Local\\Programs\\Python\\Python38\\lib\\site-packages\\keras\\engine\\training.py\", line 1499, in test_step\n        y_pred = self(x, training=False)\n    File \"c:\\Users\\Genus\\AppData\\Local\\Programs\\Python\\Python38\\lib\\site-packages\\keras\\utils\\traceback_utils.py\", line 67, in error_handler\n        raise e.with_traceback(filtered_tb) from None\n    File \"c:\\Users\\Genus\\AppData\\Local\\Programs\\Python\\Python38\\lib\\site-packages\\keras\\engine\\input_spec.py\", line 264, in assert_input_compatibility\n        raise ValueError(f'Input {input_index} of layer \"{layer_name}\" is '\n\n    ValueError: Input 0 of layer \"mnist_model\" is incompatible with the layer: expected shape=(None, 2040), found shape=(None, 60, 4)\n",
     "output_type": "error",
     "traceback": [
      "\u001b[1;31m---------------------------------------------------------------------------\u001b[0m",
      "\u001b[1;31mValueError\u001b[0m                                Traceback (most recent call last)",
      "\u001b[1;32md:\\ML_Based_Predictor\\Test - 6\\PredictFuture.ipynb Cell 11'\u001b[0m in \u001b[0;36m<cell line: 2>\u001b[1;34m()\u001b[0m\n\u001b[0;32m      <a href='vscode-notebook-cell:/d%3A/ML_Based_Predictor/Test%20-%206/PredictFuture.ipynb#ch0000009?line=0'>1</a>\u001b[0m \u001b[39m#Testing the model\u001b[39;00m\n\u001b[1;32m----> <a href='vscode-notebook-cell:/d%3A/ML_Based_Predictor/Test%20-%206/PredictFuture.ipynb#ch0000009?line=1'>2</a>\u001b[0m score \u001b[39m=\u001b[39m model2\u001b[39m.\u001b[39;49mevaluate(x\u001b[39m=\u001b[39;49mx_test, y\u001b[39m=\u001b[39;49my_test)\n\u001b[0;32m      <a href='vscode-notebook-cell:/d%3A/ML_Based_Predictor/Test%20-%206/PredictFuture.ipynb#ch0000009?line=2'>3</a>\u001b[0m \u001b[39mprint\u001b[39m(\u001b[39m\"\u001b[39m\u001b[39mAccuracy:\u001b[39m\u001b[39m\"\u001b[39m, score)\n",
      "File \u001b[1;32mc:\\Users\\Genus\\AppData\\Local\\Programs\\Python\\Python38\\lib\\site-packages\\keras\\utils\\traceback_utils.py:67\u001b[0m, in \u001b[0;36mfilter_traceback.<locals>.error_handler\u001b[1;34m(*args, **kwargs)\u001b[0m\n\u001b[0;32m     65\u001b[0m \u001b[39mexcept\u001b[39;00m \u001b[39mException\u001b[39;00m \u001b[39mas\u001b[39;00m e:  \u001b[39m# pylint: disable=broad-except\u001b[39;00m\n\u001b[0;32m     66\u001b[0m   filtered_tb \u001b[39m=\u001b[39m _process_traceback_frames(e\u001b[39m.\u001b[39m__traceback__)\n\u001b[1;32m---> 67\u001b[0m   \u001b[39mraise\u001b[39;00m e\u001b[39m.\u001b[39mwith_traceback(filtered_tb) \u001b[39mfrom\u001b[39;00m \u001b[39mNone\u001b[39m\n\u001b[0;32m     68\u001b[0m \u001b[39mfinally\u001b[39;00m:\n\u001b[0;32m     69\u001b[0m   \u001b[39mdel\u001b[39;00m filtered_tb\n",
      "File \u001b[1;32m~\\AppData\\Local\\Temp\\__autograph_generated_filem2tyfrm3.py:15\u001b[0m, in \u001b[0;36mouter_factory.<locals>.inner_factory.<locals>.tf__test_function\u001b[1;34m(iterator)\u001b[0m\n\u001b[0;32m     13\u001b[0m \u001b[39mtry\u001b[39;00m:\n\u001b[0;32m     14\u001b[0m     do_return \u001b[39m=\u001b[39m \u001b[39mTrue\u001b[39;00m\n\u001b[1;32m---> 15\u001b[0m     retval_ \u001b[39m=\u001b[39m ag__\u001b[39m.\u001b[39mconverted_call(ag__\u001b[39m.\u001b[39mld(step_function), (ag__\u001b[39m.\u001b[39mld(\u001b[39mself\u001b[39m), ag__\u001b[39m.\u001b[39mld(iterator)), \u001b[39mNone\u001b[39;00m, fscope)\n\u001b[0;32m     16\u001b[0m \u001b[39mexcept\u001b[39;00m:\n\u001b[0;32m     17\u001b[0m     do_return \u001b[39m=\u001b[39m \u001b[39mFalse\u001b[39;00m\n",
      "\u001b[1;31mValueError\u001b[0m: in user code:\n\n    File \"c:\\Users\\Genus\\AppData\\Local\\Programs\\Python\\Python38\\lib\\site-packages\\keras\\engine\\training.py\", line 1557, in test_function  *\n        return step_function(self, iterator)\n    File \"c:\\Users\\Genus\\AppData\\Local\\Programs\\Python\\Python38\\lib\\site-packages\\keras\\engine\\training.py\", line 1546, in step_function  **\n        outputs = model.distribute_strategy.run(run_step, args=(data,))\n    File \"c:\\Users\\Genus\\AppData\\Local\\Programs\\Python\\Python38\\lib\\site-packages\\keras\\engine\\training.py\", line 1535, in run_step  **\n        outputs = model.test_step(data)\n    File \"c:\\Users\\Genus\\AppData\\Local\\Programs\\Python\\Python38\\lib\\site-packages\\keras\\engine\\training.py\", line 1499, in test_step\n        y_pred = self(x, training=False)\n    File \"c:\\Users\\Genus\\AppData\\Local\\Programs\\Python\\Python38\\lib\\site-packages\\keras\\utils\\traceback_utils.py\", line 67, in error_handler\n        raise e.with_traceback(filtered_tb) from None\n    File \"c:\\Users\\Genus\\AppData\\Local\\Programs\\Python\\Python38\\lib\\site-packages\\keras\\engine\\input_spec.py\", line 264, in assert_input_compatibility\n        raise ValueError(f'Input {input_index} of layer \"{layer_name}\" is '\n\n    ValueError: Input 0 of layer \"mnist_model\" is incompatible with the layer: expected shape=(None, 2040), found shape=(None, 60, 4)\n"
     ]
    }
   ],
   "source": [
    "#Testing the model\n",
    "score = model2.score(x_test[0], y_test[0])\n",
    "print(\"Accuracy:\", score)"
   ]
  }
 ],
 "metadata": {
  "interpreter": {
   "hash": "0deb4f478c41e097bfeb3e1df2c179232858d188f2493240d5070adf52137e70"
  },
  "kernelspec": {
   "display_name": "Python 3.8.10 64-bit",
   "language": "python",
   "name": "python3"
  },
  "language_info": {
   "codemirror_mode": {
    "name": "ipython",
    "version": 3
   },
   "file_extension": ".py",
   "mimetype": "text/x-python",
   "name": "python",
   "nbconvert_exporter": "python",
   "pygments_lexer": "ipython3",
   "version": "3.8.10"
  },
  "orig_nbformat": 4
 },
 "nbformat": 4,
 "nbformat_minor": 2
}
